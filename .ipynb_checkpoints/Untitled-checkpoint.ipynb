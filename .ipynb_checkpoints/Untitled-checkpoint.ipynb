{
 "cells": [
  {
   "cell_type": "code",
   "execution_count": 6,
   "metadata": {},
   "outputs": [
    {
     "name": "stdout",
     "output_type": "stream",
     "text": [
      "123\n",
      "23\n",
      "2\n",
      "40\n",
      "2\n",
      "3 -1\n",
      "1 1\n",
      "[[3, -1], [1, 1]]\n"
     ]
    }
   ],
   "source": [
    "Gear = list()\n",
    "k_list = list()\n",
    "for i in range(4):\n",
    "    Gear.append(input())\n",
    "    \n",
    "K = int(input())\n",
    "for k in range(K):\n",
    "    temp = list(map(int, input().split())) # input받고 split, int형 변환 동시에\n",
    "    k_list.append(temp)"
   ]
  },
  {
   "cell_type": "code",
   "execution_count": null,
   "metadata": {},
   "outputs": [],
   "source": []
  }
 ],
 "metadata": {
  "kernelspec": {
   "display_name": "Python 3",
   "language": "python",
   "name": "python3"
  },
  "language_info": {
   "codemirror_mode": {
    "name": "ipython",
    "version": 3
   },
   "file_extension": ".py",
   "mimetype": "text/x-python",
   "name": "python",
   "nbconvert_exporter": "python",
   "pygments_lexer": "ipython3",
   "version": "3.7.1"
  }
 },
 "nbformat": 4,
 "nbformat_minor": 2
}
