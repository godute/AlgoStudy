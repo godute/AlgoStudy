{
 "cells": [
  {
   "cell_type": "code",
   "execution_count": 7,
   "metadata": {},
   "outputs": [
    {
     "name": "stdout",
     "output_type": "stream",
     "text": [
      "6\n",
      "1 2 3 4 5 6\n",
      "2 1 1 1\n",
      "1.6666666666666667\n",
      "2.4000000000000004\n",
      "3.1666666666666665\n",
      "3.3333333333333335\n",
      "4.800000000000001\n",
      "6.0\n",
      "30.0\n",
      "33.0\n",
      "52.0\n",
      "52.0\n",
      "-21.0\n"
     ]
    }
   ],
   "source": [
    "\n",
    "def dfs(depth, value):\n",
    "    if depth == N:  #depth 끝까지 갔다. 비교하고 함수 빠져나오면 재귀호출 전 상태로 돌아감\n",
    "        global max_res\n",
    "        global min_res\n",
    "        if max_res < value:\n",
    "            max_res = value\n",
    "            print(value)\n",
    "        if min_res > value:\n",
    "            min_res = value\n",
    "        return None     #함수를 빠져나오면? 스택의 top에있는 이전 상황으로 돌아감\n",
    "    \n",
    "    if operator[0] > 0: #전역변수인 operator 배열의 상황을 생각해보자.\n",
    "        operator[0] -= 1  \n",
    "        dfs(depth + 1, value + operand[depth])   #tree구조에서 depth 하나더 들어가는 코드\n",
    "        operator[0] += 1\n",
    "        \n",
    "    if operator[1] > 0:\n",
    "        operator[1] -= 1\n",
    "        dfs(depth + 1, value - operand[depth])\n",
    "        operator[1] += 1\n",
    "        \n",
    "    if operator[2] > 0:\n",
    "        operator[2] -= 1\n",
    "        dfs(depth + 1, value * operand[depth])\n",
    "        operator[2] += 1\n",
    "        \n",
    "    if operator[3] > 0:\n",
    "        operator[3] -= 1\n",
    "        dfs(depth + 1, value // operand[depth])\n",
    "        operator[3] += 1\n",
    "\n",
    "\n",
    "N = int(input())\n",
    "operand = list(map(int, input().split()))   #숫자 리스트 입력\n",
    "operator = list(map(int, input().split()))  #입력받은 연산자 개수\n",
    "# 각각 +, -, *, / 연산자의 개수를 나타냄\n",
    "\n",
    "max_res = -10000000\n",
    "min_res = 10000000\n",
    "dfs(1, operand[0])\n",
    "print(max_res)\n",
    "print(min_res)"
   ]
  },
  {
   "cell_type": "code",
   "execution_count": null,
   "metadata": {},
   "outputs": [],
   "source": []
  }
 ],
 "metadata": {
  "kernelspec": {
   "display_name": "Python 3",
   "language": "python",
   "name": "python3"
  },
  "language_info": {
   "codemirror_mode": {
    "name": "ipython",
    "version": 3
   },
   "file_extension": ".py",
   "mimetype": "text/x-python",
   "name": "python",
   "nbconvert_exporter": "python",
   "pygments_lexer": "ipython3",
   "version": "3.7.1"
  }
 },
 "nbformat": 4,
 "nbformat_minor": 2
}
